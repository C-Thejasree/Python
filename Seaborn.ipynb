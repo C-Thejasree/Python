{
 "cells": [
  {
   "cell_type": "markdown",
   "id": "26322cde",
   "metadata": {
    "id": "26322cde"
   },
   "source": [
    "## Data Visualization\n",
    "\n",
    "Data visualization is a graphical representation of information of data. By using visual elements like charts and graphs, Data visualization libraries provide an accessible way to see and understand trends, outliers, and patterns in data."
   ]
  },
  {
   "cell_type": "markdown",
   "id": "3f8fa0b3",
   "metadata": {
    "id": "3f8fa0b3"
   },
   "source": [
    "### What is Seaborn\n",
    "Seaborn is a Python data visualization library built on top of matplotlib. It provides a high-level interface for ploting attractive and informative statistical graphics."
   ]
  },
  {
   "cell_type": "markdown",
   "id": "fc22ca71",
   "metadata": {
    "id": "fc22ca71"
   },
   "source": [
    "### Importing Necessary Libraries"
   ]
  },
  {
   "cell_type": "code",
   "execution_count": null,
   "id": "d8248e1b",
   "metadata": {
    "id": "d8248e1b",
    "outputId": "492a037e-663a-4841-f037-7d4c4bca3ba7"
   },
   "outputs": [],
   "source": [
    "import pandas as pd\n",
    "import numpy as np\n",
    "import matplotlib.pyplot as plt\n",
    "import seaborn as sns\n",
    "from warnings import filterwarnings\n",
    "filterwarnings('ignore')\n",
    "%matplotlib inline          # the matplotlib inline plots will appear directly below the cell in which the plot function was called."
   ]
  },
  {
   "cell_type": "markdown",
   "id": "c8ef593c",
   "metadata": {
    "id": "c8ef593c"
   },
   "source": [
    "### Now will load the dataset that are readily avaliable in the seaborn library"
   ]
  },
  {
   "cell_type": "code",
   "execution_count": null,
   "id": "39abc802",
   "metadata": {
    "id": "39abc802",
    "outputId": "3f1c4ded-223f-4e05-cde7-d55dcb46e3ba",
    "scrolled": true
   },
   "outputs": [],
   "source": [
    "sns.get_dataset_names()"
   ]
  },
  {
   "cell_type": "markdown",
   "id": "ebdb5209",
   "metadata": {
    "id": "ebdb5209"
   },
   "source": [
    "### Now will load the dataset online using seaborn library"
   ]
  },
  {
   "cell_type": "code",
   "execution_count": null,
   "id": "96ea4b7d",
   "metadata": {
    "id": "96ea4b7d",
    "outputId": "1b1c92ee-9d43-4800-ea0f-f64af112ab9f"
   },
   "outputs": [],
   "source": [
    "tips = sns.load_dataset('tips')\n",
    "tips.head()"
   ]
  },
  {
   "cell_type": "code",
   "execution_count": null,
   "id": "76d718ae",
   "metadata": {
    "id": "76d718ae",
    "outputId": "3918c5ed-e3c9-4785-afcb-9064ed4ef4a7"
   },
   "outputs": [],
   "source": [
    "tips.shape"
   ]
  },
  {
   "cell_type": "code",
   "execution_count": null,
   "id": "e878342d",
   "metadata": {},
   "outputs": [],
   "source": [
    "df=sns.load_dataset('flights')"
   ]
  },
  {
   "cell_type": "code",
   "execution_count": null,
   "id": "93084184",
   "metadata": {},
   "outputs": [],
   "source": [
    "df = sns.load_dataset('titanic')"
   ]
  },
  {
   "cell_type": "code",
   "execution_count": null,
   "id": "86fa74a0",
   "metadata": {},
   "outputs": [],
   "source": [
    "df.head()"
   ]
  },
  {
   "cell_type": "code",
   "execution_count": null,
   "id": "22457d19",
   "metadata": {
    "scrolled": true
   },
   "outputs": [],
   "source": [
    "import pandas as pd\n",
    "pd.get_dummies(df['sex']).astype('int')"
   ]
  },
  {
   "cell_type": "code",
   "execution_count": null,
   "id": "4fb3d18e",
   "metadata": {},
   "outputs": [],
   "source": [
    "df=sns.load_dataset('iris')\n",
    "df.head()"
   ]
  },
  {
   "cell_type": "code",
   "execution_count": null,
   "id": "565392c2",
   "metadata": {},
   "outputs": [],
   "source": [
    "df.species.unique()"
   ]
  },
  {
   "cell_type": "code",
   "execution_count": null,
   "id": "ca9c3b19",
   "metadata": {},
   "outputs": [],
   "source": [
    "df=sns.load_dataset('tips')\n",
    "df.head()"
   ]
  },
  {
   "cell_type": "code",
   "execution_count": null,
   "id": "652bc397",
   "metadata": {},
   "outputs": [],
   "source": [
    "df.dtypes"
   ]
  },
  {
   "cell_type": "code",
   "execution_count": null,
   "id": "b165a279",
   "metadata": {},
   "outputs": [],
   "source": [
    "cat_cols=df.describe(include='category').columns.to_list()"
   ]
  },
  {
   "cell_type": "code",
   "execution_count": null,
   "id": "a08ea420",
   "metadata": {},
   "outputs": [],
   "source": [
    "cat_cols.append('size')"
   ]
  },
  {
   "cell_type": "code",
   "execution_count": null,
   "id": "225d3264",
   "metadata": {},
   "outputs": [],
   "source": [
    "cat_cols"
   ]
  },
  {
   "cell_type": "code",
   "execution_count": null,
   "id": "51290773",
   "metadata": {},
   "outputs": [],
   "source": [
    "for i in cat_cols:\n",
    "    print(df[i].value_counts())\n",
    "    print(df[i].nunique())\n",
    "    print('------------')"
   ]
  },
  {
   "cell_type": "markdown",
   "id": "97a76b8b",
   "metadata": {
    "id": "97a76b8b"
   },
   "source": [
    "## Uni-Variate Analysis"
   ]
  },
  {
   "cell_type": "markdown",
   "id": "3d02ca0e",
   "metadata": {
    "id": "3d02ca0e"
   },
   "source": [
    "Univariate analysis is the study of a single variable, without considering any relationship with other variables. It is a fundamental method in exploratory data analysis to understand the distribution, central tendency, dispersion, and other descriptive statistics of a variable."
   ]
  },
  {
   "cell_type": "markdown",
   "id": "695d03e8",
   "metadata": {
    "id": "695d03e8"
   },
   "source": [
    "### Dist Plot\n",
    "A distplot in matplotlib is useful for visualizing the distribution of a univariate dataset by showing a histogram and a kernel density estimate (KDE) curve. It is commonly used to identify the shape of the distribution, potential outliers, and skewness in the data."
   ]
  },
  {
   "cell_type": "code",
   "execution_count": null,
   "id": "0c6da8dd",
   "metadata": {
    "id": "0c6da8dd",
    "outputId": "207d2b97-e9c8-47ce-85aa-6713cdc69c71"
   },
   "outputs": [],
   "source": [
    "sns.distplot(tips.total_bill)\n",
    "plt.show()"
   ]
  },
  {
   "cell_type": "markdown",
   "id": "a37b056a",
   "metadata": {
    "id": "a37b056a"
   },
   "source": [
    "### Ploting Histogram"
   ]
  },
  {
   "cell_type": "code",
   "execution_count": null,
   "id": "28f16684",
   "metadata": {
    "id": "28f16684",
    "outputId": "81e43ad7-e7c2-46a1-ea87-754c3e16d62f",
    "scrolled": false
   },
   "outputs": [],
   "source": [
    "plt.hist(tips.total_bill,bins = 10)"
   ]
  },
  {
   "cell_type": "code",
   "execution_count": null,
   "id": "445fa96a",
   "metadata": {
    "id": "445fa96a",
    "outputId": "9ca709f1-4eca-4149-b750-635a5333e1dd"
   },
   "outputs": [],
   "source": [
    "tips.total_bill.sort_values(ignore_index=True)"
   ]
  },
  {
   "cell_type": "markdown",
   "id": "59d38e13",
   "metadata": {
    "id": "59d38e13"
   },
   "source": [
    "#### 5 number summary\n",
    "The five-number summary is the minimum, first quartile, median, third quartile, and maximum."
   ]
  },
  {
   "cell_type": "code",
   "execution_count": null,
   "id": "75faa4a5",
   "metadata": {
    "id": "75faa4a5",
    "outputId": "b38bb628-3fd7-4fbf-82b8-a2695605fc9a",
    "scrolled": true
   },
   "outputs": [],
   "source": [
    "tips.total_bill.describe()"
   ]
  },
  {
   "cell_type": "markdown",
   "id": "d4d2d341",
   "metadata": {
    "id": "d4d2d341"
   },
   "source": [
    "![Box-Plot-and-Whisker-Plot-2.png](attachment:Box-Plot-and-Whisker-Plot-2.png)"
   ]
  },
  {
   "cell_type": "code",
   "execution_count": null,
   "id": "78466fdf",
   "metadata": {
    "id": "78466fdf",
    "outputId": "9924dffa-1cbf-4169-b691-e8ecf9c85c27"
   },
   "outputs": [],
   "source": [
    "sns.boxplot(x= tips.total_bill)"
   ]
  },
  {
   "cell_type": "markdown",
   "id": "31e6b64e",
   "metadata": {
    "id": "31e6b64e"
   },
   "source": [
    "### Heat map\n",
    "\n",
    "heatmap is used for visualizing the correlation between variables in a dataset by displaying a color-coded matrix. It is commonly used to identify patterns or relationships between variables, especially in large datasets."
   ]
  },
  {
   "cell_type": "code",
   "execution_count": null,
   "id": "1920e05b",
   "metadata": {
    "id": "1920e05b",
    "outputId": "5264b2c8-9e30-490f-cf67-5d226b578bad"
   },
   "outputs": [],
   "source": [
    "titanic = sns.load_dataset('titanic')\n",
    "titanic.isnull().sum()"
   ]
  },
  {
   "cell_type": "code",
   "execution_count": null,
   "id": "e902848e",
   "metadata": {
    "id": "e902848e",
    "outputId": "0819b38a-6dd3-4ebf-e1d2-314912032a31"
   },
   "outputs": [],
   "source": [
    "titanic.shape"
   ]
  },
  {
   "cell_type": "code",
   "execution_count": null,
   "id": "0aa16701",
   "metadata": {
    "id": "0aa16701",
    "outputId": "4e23ea65-54a3-4918-c33a-142da45e2c23",
    "scrolled": true
   },
   "outputs": [],
   "source": [
    "sns.heatmap(titanic.isnull())"
   ]
  },
  {
   "cell_type": "code",
   "execution_count": null,
   "id": "53cdb6a3",
   "metadata": {
    "id": "53cdb6a3",
    "outputId": "049d50f3-5218-41d7-86f6-c6a6ebdf89d1",
    "scrolled": true
   },
   "outputs": [],
   "source": [
    "sns.heatmap(tips.isnull())"
   ]
  },
  {
   "cell_type": "code",
   "execution_count": null,
   "id": "b87e4dbf",
   "metadata": {
    "id": "b87e4dbf",
    "outputId": "9c95d8ad-388c-4e32-9a77-7b5ffe754d85"
   },
   "outputs": [],
   "source": [
    "tips[tips.describe().columns.to_list()].corr()"
   ]
  },
  {
   "cell_type": "code",
   "execution_count": null,
   "id": "c9b61cf1",
   "metadata": {
    "id": "c9b61cf1",
    "outputId": "7f8353da-af2b-4652-a674-29067b04a0eb",
    "scrolled": false
   },
   "outputs": [],
   "source": [
    "sns.heatmap(tips[tips.describe().columns.to_list()].corr(),annot = True)"
   ]
  },
  {
   "cell_type": "markdown",
   "id": "737a56fc",
   "metadata": {
    "id": "737a56fc"
   },
   "source": [
    "### Bi-variate Analysis (Scatter plot)"
   ]
  },
  {
   "cell_type": "markdown",
   "id": "39abda80",
   "metadata": {
    "id": "39abda80"
   },
   "source": [
    "A scatter plot is a graphical representation of two numerical variables in a dataset, where each point represents an observation. It is useful for visualizing the relationship between two variables, identifying patterns or trends, and detecting outliers or clusters in the data."
   ]
  },
  {
   "cell_type": "code",
   "execution_count": null,
   "id": "9c116459",
   "metadata": {
    "id": "9c116459",
    "outputId": "01feb9b0-75bd-45bd-b299-749834305964",
    "scrolled": false
   },
   "outputs": [],
   "source": [
    "# Now will see how the total_bill and tip are correlated eachother\n",
    "\n",
    "sns.scatterplot(x='total_bill',y = 'tip',data = tips)"
   ]
  },
  {
   "cell_type": "code",
   "execution_count": null,
   "id": "04fecaa1",
   "metadata": {
    "id": "04fecaa1",
    "outputId": "5802d50e-b8c6-4510-ac67-bc41842bf4ce",
    "scrolled": true
   },
   "outputs": [],
   "source": [
    "# Now will see how the total_bill and tip are correlated eachother\n",
    "                                                            # By default relational plot uses scatter plot\n",
    "sns.relplot(x='total_bill',y='tip',data = tips)             # FacetGrid is nothing but you can plot many figure in a single plot"
   ]
  },
  {
   "cell_type": "markdown",
   "id": "f956decb",
   "metadata": {
    "id": "f956decb"
   },
   "source": [
    "You can see if the total bill increases then tip is also increasing there is a Positive Linear Relationship"
   ]
  },
  {
   "cell_type": "code",
   "execution_count": null,
   "id": "03119bb9",
   "metadata": {
    "id": "03119bb9",
    "outputId": "d21801da-a9c4-4348-8976-0d2a7d05bd55"
   },
   "outputs": [],
   "source": [
    "tips[['total_bill','tip']].corr()"
   ]
  },
  {
   "cell_type": "code",
   "execution_count": null,
   "id": "3d854db0",
   "metadata": {
    "id": "3d854db0",
    "outputId": "cf72510b-aca8-4505-d176-a9ebc7a13873"
   },
   "outputs": [],
   "source": [
    "np.corrcoef(tips.total_bill,tips.tip)"
   ]
  },
  {
   "cell_type": "markdown",
   "id": "62b91da5",
   "metadata": {
    "id": "62b91da5"
   },
   "source": [
    "You can see it is 68% Positively correlated"
   ]
  },
  {
   "cell_type": "markdown",
   "id": "2fa19666",
   "metadata": {
    "id": "2fa19666"
   },
   "source": [
    "![image.png](attachment:image.png)"
   ]
  },
  {
   "cell_type": "markdown",
   "id": "40f55797",
   "metadata": {
    "id": "40f55797"
   },
   "source": [
    "### Multivariate Analysis (Scatter plot with hue)"
   ]
  },
  {
   "cell_type": "markdown",
   "id": "b8426978",
   "metadata": {
    "id": "b8426978"
   },
   "source": [
    "Multivariate analysis is a statistical method that involves analyzing data with multiple variables or factors to identify patterns, relationships, and dependencies between them. It is used to explore complex relationships and to identify variables that have the greatest impact on the outcome."
   ]
  },
  {
   "cell_type": "code",
   "execution_count": null,
   "id": "188ee015",
   "metadata": {
    "id": "188ee015",
    "outputId": "6beea056-dcbd-402e-a06a-2b8de35016bf"
   },
   "outputs": [],
   "source": [
    "tips.columns"
   ]
  },
  {
   "cell_type": "code",
   "execution_count": null,
   "id": "dc24323c",
   "metadata": {
    "id": "dc24323c",
    "outputId": "7893822e-5c0f-4610-f432-53d206e11d7d"
   },
   "outputs": [],
   "source": [
    "sns.relplot(x='total_bill',y='tip',data=tips,hue='sex')"
   ]
  },
  {
   "cell_type": "markdown",
   "id": "999591d2",
   "metadata": {
    "id": "999591d2"
   },
   "source": [
    "The figure tells you that Male has given highest tip and made high total bill compared to female and we can observe that the male customers are bit high compared to female"
   ]
  },
  {
   "cell_type": "code",
   "execution_count": null,
   "id": "374351bf",
   "metadata": {
    "id": "374351bf",
    "outputId": "44521d06-322b-4c7f-f930-81aa61b3a7a6",
    "scrolled": true
   },
   "outputs": [],
   "source": [
    "tips.groupby('sex')[['tip','total_bill']].describe()"
   ]
  },
  {
   "cell_type": "markdown",
   "id": "4d1a7c38",
   "metadata": {
    "id": "4d1a7c38"
   },
   "source": [
    "#### Now will try to compare with total bill and tips based on Sex and smoker"
   ]
  },
  {
   "cell_type": "code",
   "execution_count": null,
   "id": "03a6f2f2",
   "metadata": {
    "id": "03a6f2f2",
    "outputId": "db24a132-3183-4d04-ca08-9ecc4daf1fc3"
   },
   "outputs": [],
   "source": [
    "sns.relplot(x='total_bill',y='tip',hue='sex',style='smoker',data=tips)"
   ]
  },
  {
   "cell_type": "markdown",
   "id": "719bdeaf",
   "metadata": {
    "id": "719bdeaf"
   },
   "source": [
    "Figure tells that higest and more tips are given by male customers and also smoke comparatively female non smokers"
   ]
  },
  {
   "cell_type": "code",
   "execution_count": null,
   "id": "0ad2867a",
   "metadata": {
    "id": "0ad2867a",
    "outputId": "4c6378cc-a909-4aa2-c0eb-2452d199fc95",
    "scrolled": true
   },
   "outputs": [],
   "source": [
    "tips.columns"
   ]
  },
  {
   "cell_type": "code",
   "execution_count": null,
   "id": "569bd166",
   "metadata": {
    "id": "569bd166",
    "outputId": "ee2f2063-f4fc-4613-93ea-d712f7e5f035"
   },
   "outputs": [],
   "source": [
    "tips.sex.value_counts(normalize=True)*100"
   ]
  },
  {
   "cell_type": "code",
   "execution_count": null,
   "id": "dffb2700",
   "metadata": {
    "id": "dffb2700",
    "outputId": "5e5eb51d-236c-49bc-af48-3f6424440bd1",
    "scrolled": true
   },
   "outputs": [],
   "source": [
    "tips.groupby(['smoker','sex'])[['total_bill','tip']].describe()"
   ]
  },
  {
   "cell_type": "code",
   "execution_count": null,
   "id": "5c188f14",
   "metadata": {
    "id": "5c188f14",
    "outputId": "eda9e8a5-3387-4b50-9bb3-1cac940aef25"
   },
   "outputs": [],
   "source": [
    "tips.groupby('smoker')['total_bill'].agg(['sum','mean','count','min','max'])"
   ]
  },
  {
   "cell_type": "markdown",
   "id": "38926bcb",
   "metadata": {
    "id": "38926bcb"
   },
   "source": [
    "#### Now will try to compare with total bill and tip with based on time"
   ]
  },
  {
   "cell_type": "code",
   "execution_count": null,
   "id": "49bb14fb",
   "metadata": {
    "id": "49bb14fb",
    "outputId": "50dbec19-2df7-4f4c-8ed6-d25012a71213",
    "scrolled": false
   },
   "outputs": [],
   "source": [
    "sns.relplot(x='total_bill',y='tip',hue='time',data=tips)\n",
    "plt.show()"
   ]
  },
  {
   "cell_type": "markdown",
   "id": "04539554",
   "metadata": {
    "id": "04539554"
   },
   "source": [
    "Figure shows that most of the tips and highest bill are given during dinner time compared to Lunch time"
   ]
  },
  {
   "cell_type": "code",
   "execution_count": null,
   "id": "893272ff",
   "metadata": {
    "id": "893272ff",
    "outputId": "c8cf0ef7-8872-45f6-f097-27b8088285df"
   },
   "outputs": [],
   "source": [
    "sns.relplot(x='total_bill',y='tip',hue='time',style='sex',data=tips)\n",
    "plt.show()"
   ]
  },
  {
   "cell_type": "markdown",
   "id": "de9d62d1",
   "metadata": {
    "id": "de9d62d1"
   },
   "source": [
    "The Male customer contributing the highest tip and generating the largest total bill among diverse customers during dinner time"
   ]
  },
  {
   "cell_type": "code",
   "execution_count": null,
   "id": "8bfd4517",
   "metadata": {
    "id": "8bfd4517",
    "outputId": "55b6d4ec-4ae1-41eb-f849-d5b4043e05d4",
    "scrolled": false
   },
   "outputs": [],
   "source": [
    "sns.relplot(x='total_bill',y='tip',hue='time',style='sex',size='smoker',data=tips)\n",
    "plt.show()"
   ]
  },
  {
   "cell_type": "markdown",
   "id": "9b3ccb6e",
   "metadata": {
    "id": "9b3ccb6e"
   },
   "source": [
    "Figure shows that during dinner, male smokers not only provided the highest tips but also generated the most substantial total bill compared to other."
   ]
  },
  {
   "cell_type": "code",
   "execution_count": null,
   "id": "23b8a10a",
   "metadata": {
    "id": "23b8a10a",
    "outputId": "332c84ee-32fe-49cb-cfb5-16613c7296d7",
    "scrolled": true
   },
   "outputs": [],
   "source": [
    "tips.groupby(['time','smoker','sex'])[['tip','total_bill']].describe()"
   ]
  },
  {
   "cell_type": "markdown",
   "id": "70189446",
   "metadata": {
    "id": "70189446"
   },
   "source": [
    "### Now will automate the process"
   ]
  },
  {
   "cell_type": "code",
   "execution_count": null,
   "id": "1f1fd885",
   "metadata": {
    "id": "1f1fd885",
    "outputId": "339cdf55-0122-4883-858b-6544277d12f7",
    "scrolled": true
   },
   "outputs": [],
   "source": [
    "cat_col = ['sex','smoker','day','time','size']\n",
    "for i in cat_col:\n",
    "    sns.relplot(x='total_bill',y='tip',hue=i,data=tips)"
   ]
  },
  {
   "cell_type": "markdown",
   "id": "852be0b2",
   "metadata": {
    "id": "852be0b2"
   },
   "source": [
    "### Now will Print subplot"
   ]
  },
  {
   "cell_type": "code",
   "execution_count": null,
   "id": "5f759e16",
   "metadata": {
    "id": "5f759e16",
    "outputId": "3059dfc5-9464-4cf0-ac7b-785ddce5a7bf"
   },
   "outputs": [],
   "source": [
    "sns.relplot(x='total_bill',y='tip',hue='smoker',col='time',data=tips)    # If you print col then it prints column wise\n",
    "plt.show()"
   ]
  },
  {
   "cell_type": "code",
   "execution_count": null,
   "id": "0f079c2f",
   "metadata": {
    "id": "0f079c2f",
    "outputId": "6f401ccf-54f6-48cf-f599-013c9eb2031b",
    "scrolled": true
   },
   "outputs": [],
   "source": [
    "sns.relplot(x='total_bill',y='tip',hue='smoker',row='size',data=tips)    # If you print col then it prints column wise\n",
    "plt.show()"
   ]
  },
  {
   "cell_type": "code",
   "execution_count": null,
   "id": "edb2e7f4",
   "metadata": {
    "id": "edb2e7f4",
    "outputId": "427bc9c5-888d-4c42-8e00-183a7dedfd72",
    "scrolled": true
   },
   "outputs": [],
   "source": [
    "tips.head()"
   ]
  },
  {
   "cell_type": "code",
   "execution_count": null,
   "id": "4e2b4c00",
   "metadata": {
    "id": "4e2b4c00",
    "outputId": "e00e43cd-254a-4f82-e831-2b6d70a1a9e4"
   },
   "outputs": [],
   "source": [
    "sns.relplot(x='total_bill',y='tip',hue='day',row='size',col='smoker',style='sex',data=tips)"
   ]
  },
  {
   "cell_type": "code",
   "execution_count": null,
   "id": "10a65931",
   "metadata": {
    "id": "10a65931",
    "outputId": "05826519-93fa-46f1-f32c-635567caf71a",
    "scrolled": true
   },
   "outputs": [],
   "source": [
    "# Or you can use col_wrap to wrap the column\n",
    "\n",
    "sns.relplot(x='total_bill',y='tip',hue='day',col='size',style='sex',data=tips,size='smoker',col_wrap =3)"
   ]
  },
  {
   "cell_type": "markdown",
   "id": "b5f63e1b",
   "metadata": {
    "id": "b5f63e1b"
   },
   "source": [
    "### Now we have used scatter plot and got to know how to use it, Will try to understand how to work on Line plot"
   ]
  },
  {
   "cell_type": "markdown",
   "id": "7040f582",
   "metadata": {
    "id": "7040f582"
   },
   "source": [
    "### Line Plot:\n",
    "Line Graph is commonly used to show trends or changes in data over time"
   ]
  },
  {
   "cell_type": "code",
   "execution_count": null,
   "id": "a275b79e",
   "metadata": {
    "id": "a275b79e"
   },
   "outputs": [],
   "source": [
    "Date = np.random.randint(1,31,size=350)\n",
    "price = np.random.randint(2000,4500,size=350)"
   ]
  },
  {
   "cell_type": "code",
   "execution_count": null,
   "id": "c99600e7",
   "metadata": {
    "id": "c99600e7",
    "outputId": "9e7b01f1-9f6d-4fc6-9ac9-313538864fd4"
   },
   "outputs": [],
   "source": [
    "df = pd.DataFrame({'Date':Date,'Price':price})\n",
    "df.head()"
   ]
  },
  {
   "cell_type": "code",
   "execution_count": null,
   "id": "3dc12687",
   "metadata": {
    "id": "3dc12687",
    "outputId": "df2dbe96-7239-47be-d818-a6805ed27d2e"
   },
   "outputs": [],
   "source": [
    "df.shape"
   ]
  },
  {
   "cell_type": "code",
   "execution_count": null,
   "id": "48d0c681",
   "metadata": {
    "id": "48d0c681",
    "outputId": "0b8ecbf5-d066-44e4-e899-6977bc5b0231",
    "scrolled": false
   },
   "outputs": [],
   "source": [
    "sns.relplot(x='Date',y='Price',data=df,kind='line')"
   ]
  },
  {
   "cell_type": "code",
   "execution_count": null,
   "id": "fc111881",
   "metadata": {
    "id": "fc111881",
    "outputId": "5a99bbb8-9180-499b-e765-17e0c4e03273"
   },
   "outputs": [],
   "source": [
    "# By default the x and y axis will be sorted for line plot (if you want to turn off the sorting)\n",
    "sns.relplot(x='Date',y='Price',data=df,kind='line',sort=False)"
   ]
  },
  {
   "cell_type": "markdown",
   "id": "f04aa4f3",
   "metadata": {
    "id": "f04aa4f3"
   },
   "source": [
    "### If the Data is not sorted it doesn't get the proper information so by default seaborn will sort the data"
   ]
  },
  {
   "cell_type": "markdown",
   "id": "0024d57f",
   "metadata": {
    "id": "0024d57f"
   },
   "source": [
    "### For better understanding of line plot we require timestamp on my x-axis so we can find the trend over a period"
   ]
  },
  {
   "cell_type": "code",
   "execution_count": null,
   "id": "3c969262",
   "metadata": {
    "id": "3c969262",
    "outputId": "8ed1ff85-5396-466f-8a85-00d0ddb5965a",
    "scrolled": true
   },
   "outputs": [],
   "source": [
    "sns.get_dataset_names()"
   ]
  },
  {
   "cell_type": "code",
   "execution_count": null,
   "id": "8cc8acd1",
   "metadata": {
    "id": "8cc8acd1",
    "outputId": "a3a55178-cefc-413f-ee55-04856e7ef285"
   },
   "outputs": [],
   "source": [
    "# Now will load fmri dataset using seaborn\n",
    "\n",
    "fmri = sns.load_dataset('fmri')\n",
    "fmri.head()"
   ]
  },
  {
   "cell_type": "markdown",
   "id": "41757edf",
   "metadata": {
    "id": "41757edf"
   },
   "source": [
    "### Functional magnetic resonance imaging or functional MRI (fMRI) measures brain activity by detecting changes associated with blood flow."
   ]
  },
  {
   "cell_type": "code",
   "execution_count": null,
   "id": "8e26e585",
   "metadata": {
    "id": "8e26e585",
    "outputId": "0052e8a7-c23b-4ec6-b648-1c9af219d6ac"
   },
   "outputs": [],
   "source": [
    "# Now will perfrom Normal line plot\n",
    "sns.relplot(x='timepoint',y='signal',kind='line',data=fmri)"
   ]
  },
  {
   "cell_type": "markdown",
   "id": "3a5eecd9",
   "metadata": {
    "id": "3a5eecd9"
   },
   "source": [
    "### You can see we have line along with shadow (its because of 95% of confidence interval) That states that it is 95% confident that the line will fall on that region (we can also state that this is correlated with standard deviation, this the expected deviation from the mean of the data)"
   ]
  },
  {
   "cell_type": "code",
   "execution_count": null,
   "id": "7c2f3df7",
   "metadata": {
    "id": "7c2f3df7",
    "outputId": "ac40c538-3b2b-4ed8-c7e8-6dc9496d3d5a"
   },
   "outputs": [],
   "source": [
    "# Now will trun off the confidence interval\n",
    "\n",
    "sns.relplot(x='timepoint',y='signal',kind='line',data=fmri,ci=False)"
   ]
  },
  {
   "cell_type": "code",
   "execution_count": null,
   "id": "96ccfc50",
   "metadata": {
    "id": "96ccfc50",
    "outputId": "78983f7c-5868-4f11-a25d-c8854b13fbdc"
   },
   "outputs": [],
   "source": [
    "# Now will plot the real data by turning off the confident interval and estimator analysis\n",
    "\n",
    "sns.relplot(x='timepoint',y='signal',estimator=None,kind='line',data=fmri,ci=False)"
   ]
  },
  {
   "cell_type": "markdown",
   "id": "aabc49f6",
   "metadata": {
    "id": "aabc49f6"
   },
   "source": [
    "### Now you can see the data looks some what weird (we cannot gather much information)"
   ]
  },
  {
   "cell_type": "markdown",
   "id": "cde34c25",
   "metadata": {
    "id": "cde34c25"
   },
   "source": [
    "#### hue = You can change the color based on different category\n",
    "#### size = You can change the size based on the different category\n",
    "#### style = You can change the style of plot based on the different category"
   ]
  },
  {
   "cell_type": "code",
   "execution_count": null,
   "id": "a6b7a938",
   "metadata": {
    "id": "a6b7a938",
    "outputId": "39698281-f46e-4fd6-f40d-a489c0a6251f"
   },
   "outputs": [],
   "source": [
    "fmri.head()"
   ]
  },
  {
   "cell_type": "code",
   "execution_count": null,
   "id": "9afc4889",
   "metadata": {
    "id": "9afc4889",
    "outputId": "3705f666-e611-4c60-e236-adf0ee5bcb46",
    "scrolled": false
   },
   "outputs": [],
   "source": [
    "sns.relplot(x='timepoint',y='signal',hue='event',kind='line',data=fmri)"
   ]
  },
  {
   "cell_type": "code",
   "execution_count": null,
   "id": "6c1af944",
   "metadata": {
    "id": "6c1af944",
    "outputId": "171baff4-4e40-49b9-eeae-5304df4a4bdf"
   },
   "outputs": [],
   "source": [
    "sns.relplot(x='timepoint',y='signal',hue='event',style='region',kind='line',data=fmri)"
   ]
  },
  {
   "cell_type": "markdown",
   "id": "024c784b",
   "metadata": {
    "id": "024c784b"
   },
   "source": [
    "### Will provide the Markers to get better understanding of the plot"
   ]
  },
  {
   "cell_type": "code",
   "execution_count": null,
   "id": "007aa75f",
   "metadata": {
    "id": "007aa75f",
    "outputId": "bea19b04-a50d-4b25-dfde-0d8df95c33a7",
    "scrolled": false
   },
   "outputs": [],
   "source": [
    "sns.relplot(x='timepoint',y='signal',hue='event',style='region',kind='line',markers=True,data=fmri)"
   ]
  },
  {
   "cell_type": "code",
   "execution_count": null,
   "id": "263446a2",
   "metadata": {
    "id": "263446a2",
    "outputId": "833746b5-632c-48ff-c083-0461f3df752b",
    "scrolled": true
   },
   "outputs": [],
   "source": [
    "sns.relplot(x='timepoint',y='signal',hue='subject',kind='line',ci=False,col='region',row='event',data=fmri)"
   ]
  },
  {
   "cell_type": "markdown",
   "id": "ec52ad2d",
   "metadata": {
    "id": "ec52ad2d"
   },
   "source": [
    "## 2. Categorical Data Ploting"
   ]
  },
  {
   "cell_type": "markdown",
   "id": "b0866756",
   "metadata": {
    "id": "b0866756"
   },
   "source": [
    "- countplot()\n",
    "- catplot()\n",
    "- boxplot()\n",
    "- stripplot()\n",
    "- swarmplot()\n"
   ]
  },
  {
   "cell_type": "markdown",
   "id": "df53acbe",
   "metadata": {
    "id": "df53acbe"
   },
   "source": [
    "### Catplot\n",
    "catplot :- The default representation of catplot is a scatter plot for 1 numerical and one or more categorical variable\n",
    "    \n",
    "This function provides access to several axes-level functions that show the relationship between a numerical and one or more categorical variables using one of several visual representations."
   ]
  },
  {
   "cell_type": "code",
   "execution_count": null,
   "id": "a4ee8733",
   "metadata": {
    "id": "a4ee8733",
    "outputId": "f28d2303-8258-4bc3-9440-84471f46ec84"
   },
   "outputs": [],
   "source": [
    "tips.head()"
   ]
  },
  {
   "cell_type": "code",
   "execution_count": null,
   "id": "a8988277",
   "metadata": {
    "id": "a8988277",
    "outputId": "10a57a4c-9c94-4f33-c6fd-7917d13d75a5",
    "scrolled": false
   },
   "outputs": [],
   "source": [
    "sns.catplot(x='day',y='tip',data=tips)      # x=categorical variable,y=numerical variable"
   ]
  },
  {
   "cell_type": "markdown",
   "id": "fe8786ca",
   "metadata": {
    "id": "fe8786ca"
   },
   "source": [
    "### If i want to remove the deviation from the mean we can give an arrgument as jitter = False"
   ]
  },
  {
   "cell_type": "code",
   "execution_count": null,
   "id": "727054bb",
   "metadata": {
    "id": "727054bb",
    "outputId": "24ca126b-9dc1-499d-ca8e-ec8b5ee86fb1"
   },
   "outputs": [],
   "source": [
    "sns.catplot(x='day',y='tip',jitter=False,data=tips)    # If you remove the jitter it stops the over lapping in the data"
   ]
  },
  {
   "cell_type": "markdown",
   "id": "28b56d7c",
   "metadata": {
    "id": "28b56d7c"
   },
   "source": [
    "### Swarm Plot\n",
    "Swarm Plot in Seaborn is used to draw a categorical scatterplot with non-overlapping points"
   ]
  },
  {
   "cell_type": "code",
   "execution_count": null,
   "id": "1a4fb899",
   "metadata": {
    "id": "1a4fb899",
    "outputId": "09451387-811f-457c-ea88-15b2bbbfeca7",
    "scrolled": false
   },
   "outputs": [],
   "source": [
    "sns.catplot(x='day',y='tip',kind='swarm',hue='sex',data=tips)"
   ]
  },
  {
   "cell_type": "markdown",
   "id": "4bebc2bb",
   "metadata": {
    "id": "4bebc2bb"
   },
   "source": [
    "### Boxplot\n",
    "Box plot show distributions with respect to categories. with different statistical information like min,max,and different quartiles"
   ]
  },
  {
   "cell_type": "code",
   "execution_count": null,
   "id": "f8695bd3",
   "metadata": {
    "id": "f8695bd3",
    "outputId": "031bf65d-65e5-4eb0-c4c0-b9ec141aebd2",
    "scrolled": false
   },
   "outputs": [],
   "source": [
    "sns.catplot(x='day',y='tip',data=tips,kind='box')"
   ]
  },
  {
   "cell_type": "code",
   "execution_count": null,
   "id": "b702a037",
   "metadata": {
    "id": "b702a037",
    "outputId": "f8d1ef17-887e-46db-c334-e93714a6d721"
   },
   "outputs": [],
   "source": [
    "sns.catplot(x='day',y='tip',kind = 'box',hue='time',data=tips)"
   ]
  },
  {
   "cell_type": "code",
   "execution_count": null,
   "id": "b44e4477",
   "metadata": {},
   "outputs": [],
   "source": [
    "df.groupby(['time','day'])['tip'].size().reset_index().rename(columns={'tip':'No of customers'})"
   ]
  },
  {
   "cell_type": "code",
   "execution_count": null,
   "id": "3c4836af",
   "metadata": {
    "id": "3c4836af",
    "outputId": "a6ef6e91-4691-4d8e-9098-5e708a13d0ee"
   },
   "outputs": [],
   "source": [
    "sns.catplot(x='day',y='total_bill',hue='sex',data=tips,kind='box',dodge=False)  # If you print dodge = False it plots in the same axis"
   ]
  },
  {
   "cell_type": "markdown",
   "id": "f49d7b25",
   "metadata": {
    "id": "f49d7b25"
   },
   "source": [
    "### Violin Plot"
   ]
  },
  {
   "cell_type": "markdown",
   "id": "6252e240",
   "metadata": {
    "id": "6252e240"
   },
   "source": [
    "#### A violin plot is a combination of a box plot and a kernel density plot, which shows peaks in the data. It is used to visualize the distribution of numerical data. Unlike a box plot that can only show summary statistics, violin plots depict summary statistics and the density of each variable"
   ]
  },
  {
   "cell_type": "code",
   "execution_count": null,
   "id": "1237b7be",
   "metadata": {
    "id": "1237b7be",
    "outputId": "616fc244-1713-4f79-f12c-39f6c26690b7"
   },
   "outputs": [],
   "source": [
    "sns.catplot(x='total_bill',y='day',hue='sex',data=tips,kind='violin')"
   ]
  },
  {
   "cell_type": "code",
   "execution_count": null,
   "id": "2d72a11f",
   "metadata": {
    "id": "2d72a11f",
    "outputId": "1a4919f5-41a7-483d-a3a3-eaeef6a8d2de"
   },
   "outputs": [],
   "source": [
    "sns.catplot(x='total_bill',y='day',hue='sex',data=tips,kind='violin',split=True)"
   ]
  },
  {
   "cell_type": "markdown",
   "id": "2bf7b885",
   "metadata": {
    "id": "2bf7b885"
   },
   "source": [
    "### Will Load Titanic Dataset"
   ]
  },
  {
   "cell_type": "code",
   "execution_count": null,
   "id": "b8a7e5ff",
   "metadata": {
    "id": "b8a7e5ff",
    "outputId": "1bb5fa9d-bc60-466f-ad67-999177b9d300",
    "scrolled": true
   },
   "outputs": [],
   "source": [
    "titanic = sns.load_dataset('titanic')\n",
    "titanic.head()"
   ]
  },
  {
   "cell_type": "markdown",
   "id": "00316be1",
   "metadata": {
    "id": "00316be1"
   },
   "source": [
    "### Will perform categorical feature with another categorical feature\n"
   ]
  },
  {
   "cell_type": "code",
   "execution_count": null,
   "id": "4212e1c0",
   "metadata": {
    "id": "4212e1c0",
    "outputId": "c8af3f67-e4ab-4d8b-a1b4-06991c7badea"
   },
   "outputs": [],
   "source": [
    "sns.countplot(x='sex',data=titanic)"
   ]
  },
  {
   "cell_type": "code",
   "execution_count": null,
   "id": "349f918e",
   "metadata": {
    "id": "349f918e",
    "outputId": "5e5a771d-b9c2-4fa4-c6fd-90c48bbad119",
    "scrolled": false
   },
   "outputs": [],
   "source": [
    "sns.catplot(x='sex',y='survived',data=titanic,kind='bar')"
   ]
  },
  {
   "cell_type": "code",
   "execution_count": null,
   "id": "1d47eadb",
   "metadata": {
    "id": "1d47eadb",
    "outputId": "37542a4d-a544-4c83-ae67-07d6ffe2f76e",
    "scrolled": true
   },
   "outputs": [],
   "source": [
    "titanic.groupby('sex')['survived'].value_counts(normalize=True)*100"
   ]
  },
  {
   "cell_type": "markdown",
   "id": "37ff6077",
   "metadata": {
    "id": "37ff6077"
   },
   "source": [
    "### By the above graph you can state that 74% of female are survived and 18% of male are survived"
   ]
  },
  {
   "cell_type": "code",
   "execution_count": null,
   "id": "315f5a9a",
   "metadata": {
    "id": "315f5a9a",
    "outputId": "e8a8fad8-656c-4619-9a2e-b99864382640"
   },
   "outputs": [],
   "source": [
    "sns.catplot(x='sex',y='survived',hue='class',kind='bar',data=titanic)    # The line represents the 95% of confident interval it may range between the values"
   ]
  },
  {
   "cell_type": "code",
   "execution_count": null,
   "id": "12811cc4",
   "metadata": {},
   "outputs": [],
   "source": [
    "titanic.groupby('sex','class')['survived'].value_counts(normalize=True)*100"
   ]
  },
  {
   "cell_type": "markdown",
   "id": "0b90e458",
   "metadata": {
    "id": "0b90e458"
   },
   "source": [
    "By seeing above graph you can state that 96.8% of female Passenger who are in first class were survived and on the second class 92% of female Passenger were survived and 50% of female Passenger were in third class were survived ,  36% of Male Passenger were survived who are in first class, 15% of Male Passenger were survived who are in second class, and 13% of Male Passenger were survived who were in Third class"
   ]
  },
  {
   "cell_type": "markdown",
   "id": "87d841da",
   "metadata": {
    "id": "87d841da"
   },
   "source": [
    "By seeing above statement you can state that the female passenger with firstclass ticket is almost survived and if the ticket is high class then there is higher probability to survive and the survival rate of female is higher than male"
   ]
  },
  {
   "cell_type": "code",
   "execution_count": null,
   "id": "810d64fa",
   "metadata": {
    "id": "810d64fa",
    "outputId": "9a41e1b2-14a1-4dd6-aca9-0ecfd7b095b8",
    "scrolled": false
   },
   "outputs": [],
   "source": [
    "sns.catplot(x='deck',kind='count',data=titanic,hue='class')"
   ]
  },
  {
   "cell_type": "markdown",
   "id": "ee2ef022",
   "metadata": {
    "id": "ee2ef022"
   },
   "source": [
    "#### You can see that the Deck A,B,C is belonging for First class (you can state that who all are travelling in deck A,B,C there is higher probability rate of survival)"
   ]
  },
  {
   "cell_type": "markdown",
   "id": "4dec9a6b",
   "metadata": {
    "id": "4dec9a6b"
   },
   "source": [
    "### Now will perform Point plot"
   ]
  },
  {
   "cell_type": "markdown",
   "id": "a228f0d2",
   "metadata": {
    "id": "a228f0d2"
   },
   "source": [
    "Pointplot is used to display point estimates and confidence intervals of categorical variables. It is useful for comparing different categories of data and identifying trends or differences between them."
   ]
  },
  {
   "cell_type": "code",
   "execution_count": null,
   "id": "819d5955",
   "metadata": {
    "id": "819d5955",
    "outputId": "3a5cc78c-496a-4c99-a4b0-da3cf5bdf08f"
   },
   "outputs": [],
   "source": [
    "sns.catplot(x='sex',y='survived',kind='point',hue='class',data=titanic)"
   ]
  },
  {
   "cell_type": "markdown",
   "id": "a445d105",
   "metadata": {
    "id": "a445d105"
   },
   "source": [
    "### By seeing above graph you can state that there is a higher chances of survival rate for female Passenger compared to Male Passenger"
   ]
  },
  {
   "cell_type": "markdown",
   "id": "805cb771",
   "metadata": {
    "id": "805cb771"
   },
   "source": [
    "### Joint plot"
   ]
  },
  {
   "cell_type": "markdown",
   "id": "9fe829f9",
   "metadata": {
    "id": "9fe829f9"
   },
   "source": [
    "Jointplot in seaborn is used to visualize the relationship between two variables by plotting their joint distribution and marginal distributions. It helps in understanding the correlation and distribution of variables in a dataset."
   ]
  },
  {
   "cell_type": "code",
   "execution_count": null,
   "id": "4a37d13e",
   "metadata": {
    "id": "4a37d13e",
    "outputId": "8f8a0810-d16a-4390-d1a2-da456e687f1a"
   },
   "outputs": [],
   "source": [
    "# If you want to perform both scatter plot and distribution then you want to use joint plot\n",
    "sns.jointplot(x='total_bill',y='tip',data=tips,marginal_ticks =True)"
   ]
  },
  {
   "cell_type": "markdown",
   "id": "b6ed7281",
   "metadata": {
    "id": "b6ed7281"
   },
   "source": [
    "### Pairplot"
   ]
  },
  {
   "cell_type": "markdown",
   "id": "f08e83e0",
   "metadata": {
    "id": "f08e83e0"
   },
   "source": [
    "### Pairplot plots histogram plot at the diagonal element and scatterplot at non diagonal element"
   ]
  },
  {
   "cell_type": "code",
   "execution_count": null,
   "id": "65c723f2",
   "metadata": {
    "id": "65c723f2",
    "outputId": "bd87ecbb-a20d-43ef-c2c8-baf8a4713dda",
    "scrolled": false
   },
   "outputs": [],
   "source": [
    "sns.pairplot(tips)"
   ]
  },
  {
   "cell_type": "markdown",
   "id": "1c768384",
   "metadata": {
    "id": "1c768384"
   },
   "source": [
    "### 4. Linear Regression and Relationship"
   ]
  },
  {
   "cell_type": "code",
   "execution_count": null,
   "id": "af7fc03a",
   "metadata": {
    "id": "af7fc03a",
    "outputId": "a2b15c50-1030-4e09-ad67-cec6a5b07808"
   },
   "outputs": [],
   "source": [
    "tips.head()"
   ]
  },
  {
   "cell_type": "code",
   "execution_count": null,
   "id": "fbb56f33",
   "metadata": {
    "id": "fbb56f33",
    "outputId": "74937b9c-f121-4090-eed7-b20f894dc356"
   },
   "outputs": [],
   "source": [
    "sns.regplot(x='total_bill',y='tip',data=tips)        # Regression and linear model plot is almost the same"
   ]
  },
  {
   "cell_type": "code",
   "execution_count": null,
   "id": "52242b44",
   "metadata": {
    "id": "52242b44",
    "outputId": "86509fe5-2189-41f4-d363-5add550a18af"
   },
   "outputs": [],
   "source": [
    "sns.lmplot(x='total_bill',y='tip',data=tips)     # or you can perform the same by using linear model plot"
   ]
  },
  {
   "cell_type": "code",
   "execution_count": null,
   "id": "2331b806",
   "metadata": {
    "id": "2331b806",
    "outputId": "56d82fe5-ff17-4610-9fd5-63a5a516e422"
   },
   "outputs": [],
   "source": [
    "sns.lmplot(x='total_bill',y='tip',hue='sex',data=tips)"
   ]
  },
  {
   "cell_type": "code",
   "execution_count": null,
   "id": "65aedd13",
   "metadata": {
    "id": "65aedd13",
    "outputId": "6f027ef1-3e07-4249-e38f-8ece0715024b",
    "scrolled": true
   },
   "outputs": [],
   "source": [
    "sns.lmplot(x='total_bill',y='tip',hue='sex',col='time',row='smoker',data=tips)"
   ]
  },
  {
   "cell_type": "code",
   "execution_count": null,
   "id": "b5806805",
   "metadata": {
    "id": "b5806805"
   },
   "outputs": [],
   "source": []
  },
  {
   "cell_type": "code",
   "execution_count": null,
   "id": "19f9aa63",
   "metadata": {
    "id": "19f9aa63"
   },
   "outputs": [],
   "source": []
  },
  {
   "cell_type": "code",
   "execution_count": null,
   "id": "59bdb5bb",
   "metadata": {
    "id": "59bdb5bb"
   },
   "outputs": [],
   "source": []
  },
  {
   "cell_type": "code",
   "execution_count": null,
   "id": "46dff992",
   "metadata": {
    "id": "46dff992"
   },
   "outputs": [],
   "source": []
  },
  {
   "cell_type": "code",
   "execution_count": null,
   "id": "8609be9b",
   "metadata": {
    "id": "8609be9b"
   },
   "outputs": [],
   "source": []
  },
  {
   "cell_type": "code",
   "execution_count": null,
   "id": "197358f7",
   "metadata": {
    "id": "197358f7"
   },
   "outputs": [],
   "source": []
  },
  {
   "cell_type": "code",
   "execution_count": null,
   "id": "b784c00b",
   "metadata": {
    "id": "b784c00b"
   },
   "outputs": [],
   "source": []
  },
  {
   "cell_type": "code",
   "execution_count": null,
   "id": "33ef83ef",
   "metadata": {
    "id": "33ef83ef"
   },
   "outputs": [],
   "source": []
  },
  {
   "cell_type": "code",
   "execution_count": null,
   "id": "ec70b376",
   "metadata": {
    "id": "ec70b376"
   },
   "outputs": [],
   "source": []
  },
  {
   "cell_type": "code",
   "execution_count": null,
   "id": "65597908",
   "metadata": {
    "id": "65597908"
   },
   "outputs": [],
   "source": []
  },
  {
   "cell_type": "code",
   "execution_count": null,
   "id": "613ede7e",
   "metadata": {
    "id": "613ede7e"
   },
   "outputs": [],
   "source": []
  }
 ],
 "metadata": {
  "colab": {
   "provenance": []
  },
  "kernelspec": {
   "display_name": "Python 3 (ipykernel)",
   "language": "python",
   "name": "python3"
  },
  "language_info": {
   "codemirror_mode": {
    "name": "ipython",
    "version": 3
   },
   "file_extension": ".py",
   "mimetype": "text/x-python",
   "name": "python",
   "nbconvert_exporter": "python",
   "pygments_lexer": "ipython3",
   "version": "3.11.5"
  }
 },
 "nbformat": 4,
 "nbformat_minor": 5
}
